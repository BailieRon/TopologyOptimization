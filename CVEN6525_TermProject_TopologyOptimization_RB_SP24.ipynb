{
 "cells": [
  {
   "cell_type": "markdown",
   "metadata": {},
   "source": [
    "#### CVEN 6525 - NONLINEAR ANALYSIS OF FRAMED STRUCTURES\n",
    "##### FINAL TERM PROJECT - SPRING 2024 - RON BAILIE, UNIVERSITY OF COLORADO BOULDER"
   ]
  },
  {
   "cell_type": "markdown",
   "metadata": {},
   "source": [
    "<center> Topology Optimization of 2D structural elements using the SIMP method</center><br>  \n",
    "The following is a python implementation of Ole Sigmund's <i>a 99 line topology optimization code written in MATLAB</i>"
   ]
  }
 ],
 "metadata": {
  "language_info": {
   "name": "python"
  }
 },
 "nbformat": 4,
 "nbformat_minor": 2
}
